{
 "cells": [
  {
   "cell_type": "code",
   "execution_count": 1,
   "metadata": {},
   "outputs": [],
   "source": [
    "# Carrega a extensão sql, utilizada para estabelecer a conexão com o banco de dados que iremos criar\n",
    "%load_ext sql"
   ]
  },
  {
   "cell_type": "code",
   "execution_count": 2,
   "metadata": {},
   "outputs": [],
   "source": [
    "# Estabelece conexão com o banco de dados (cria o banco de dados caso ele não exista)\n",
    "\n",
    "%sql sqlite:///mydb.db"
   ]
  },
  {
   "cell_type": "code",
   "execution_count": 3,
   "metadata": {
    "vscode": {
     "languageId": "sql"
    }
   },
   "outputs": [
    {
     "name": "stdout",
     "output_type": "stream",
     "text": [
      " * sqlite:///mydb.db\n",
      "Done.\n"
     ]
    },
    {
     "data": {
      "text/plain": [
       "[]"
      ]
     },
     "execution_count": 3,
     "metadata": {},
     "output_type": "execute_result"
    }
   ],
   "source": [
    "%%sql\n",
    "\n",
    "-- Cria a tabela CLIENTE:\n",
    "\n",
    "CREATE TABLE CLIENTE (\n",
    "    CLIENTE_ID INTEGER PRIMARY KEY,\n",
    "    NOME TEXT NOT NULL,\n",
    "    EMAIL TEXT NOT NULL UNIQUE,\n",
    "    TELEFONE TEXT NOT NULL UNIQUE\n",
    ");"
   ]
  },
  {
   "cell_type": "code",
   "execution_count": 4,
   "metadata": {
    "vscode": {
     "languageId": "sql"
    }
   },
   "outputs": [
    {
     "name": "stdout",
     "output_type": "stream",
     "text": [
      " * sqlite:///mydb.db\n",
      "Done.\n"
     ]
    },
    {
     "data": {
      "text/plain": [
       "[]"
      ]
     },
     "execution_count": 4,
     "metadata": {},
     "output_type": "execute_result"
    }
   ],
   "source": [
    "%%sql\n",
    "\n",
    "-- Insere dados na tabela CLIENTE\n",
    "\n",
    "INSERT INTO CLIENTE (NOME, EMAIL, TELEFONE) \n",
    "VALUES\n",
    "    ('Leonardo' , 'leonardo@gmail.com', '9999-9999' ),\n",
    "    ('Rafael' , 'rafael@gmail.com', '9889-8998' ),\n",
    "    ('Michelangelo' , 'michelangelo@gmail.com', '9997-7999' ),\n",
    "    ('Donatello' , 'donatello@gmail.com', '9777-7779' );"
   ]
  },
  {
   "cell_type": "code",
   "execution_count": 5,
   "metadata": {
    "vscode": {
     "languageId": "sql"
    }
   },
   "outputs": [
    {
     "name": "stdout",
     "output_type": "stream",
     "text": [
      " * sqlite:///mydb.db\n",
      "Done.\n"
     ]
    },
    {
     "data": {
      "text/html": [
       "<table>\n",
       "    <thead>\n",
       "        <tr>\n",
       "            <th>CLIENTE_ID</th>\n",
       "            <th>NOME</th>\n",
       "            <th>EMAIL</th>\n",
       "            <th>TELEFONE</th>\n",
       "        </tr>\n",
       "    </thead>\n",
       "    <tbody>\n",
       "        <tr>\n",
       "            <td>1</td>\n",
       "            <td>Leonardo</td>\n",
       "            <td>leonardo@gmail.com</td>\n",
       "            <td>9999-9999</td>\n",
       "        </tr>\n",
       "        <tr>\n",
       "            <td>2</td>\n",
       "            <td>Rafael</td>\n",
       "            <td>rafael@gmail.com</td>\n",
       "            <td>9889-8998</td>\n",
       "        </tr>\n",
       "        <tr>\n",
       "            <td>3</td>\n",
       "            <td>Michelangelo</td>\n",
       "            <td>michelangelo@gmail.com</td>\n",
       "            <td>9997-7999</td>\n",
       "        </tr>\n",
       "        <tr>\n",
       "            <td>4</td>\n",
       "            <td>Donatello</td>\n",
       "            <td>donatello@gmail.com</td>\n",
       "            <td>9777-7779</td>\n",
       "        </tr>\n",
       "    </tbody>\n",
       "</table>"
      ],
      "text/plain": [
       "[(1, 'Leonardo', 'leonardo@gmail.com', '9999-9999'),\n",
       " (2, 'Rafael', 'rafael@gmail.com', '9889-8998'),\n",
       " (3, 'Michelangelo', 'michelangelo@gmail.com', '9997-7999'),\n",
       " (4, 'Donatello', 'donatello@gmail.com', '9777-7779')]"
      ]
     },
     "execution_count": 5,
     "metadata": {},
     "output_type": "execute_result"
    }
   ],
   "source": [
    "%%sql\n",
    "\n",
    "-- Consulta os dados da tabela CLIENTE\n",
    "\n",
    "SELECT * FROM CLIENTE"
   ]
  },
  {
   "cell_type": "code",
   "execution_count": 6,
   "metadata": {},
   "outputs": [],
   "source": [
    "# Para carregar os dados da tabela em um pandas data frame\n",
    "import pandas as pd\n",
    "import sqlite3"
   ]
  },
  {
   "cell_type": "code",
   "execution_count": 7,
   "metadata": {},
   "outputs": [],
   "source": [
    "# Estabelece a conexão com o banco de dados\n",
    "# conn_sqlite = sqlite3.connect(\"../database/mydb.db\")\n",
    "conn_sqlite = sqlite3.connect(\"mydb.db\")"
   ]
  },
  {
   "cell_type": "code",
   "execution_count": 8,
   "metadata": {},
   "outputs": [],
   "source": [
    "# Faz a leitura da tabela:\n",
    "query = '''\n",
    "SELECT * FROM CLIENTE\n",
    "'''\n",
    "df_cliente = pd.read_sql(sql=query, con=conn_sqlite)"
   ]
  },
  {
   "cell_type": "code",
   "execution_count": 9,
   "metadata": {},
   "outputs": [
    {
     "data": {
      "text/html": [
       "<div>\n",
       "<style scoped>\n",
       "    .dataframe tbody tr th:only-of-type {\n",
       "        vertical-align: middle;\n",
       "    }\n",
       "\n",
       "    .dataframe tbody tr th {\n",
       "        vertical-align: top;\n",
       "    }\n",
       "\n",
       "    .dataframe thead th {\n",
       "        text-align: right;\n",
       "    }\n",
       "</style>\n",
       "<table border=\"1\" class=\"dataframe\">\n",
       "  <thead>\n",
       "    <tr style=\"text-align: right;\">\n",
       "      <th></th>\n",
       "      <th>CLIENTE_ID</th>\n",
       "      <th>NOME</th>\n",
       "      <th>EMAIL</th>\n",
       "      <th>TELEFONE</th>\n",
       "    </tr>\n",
       "  </thead>\n",
       "  <tbody>\n",
       "    <tr>\n",
       "      <th>0</th>\n",
       "      <td>1</td>\n",
       "      <td>Leonardo</td>\n",
       "      <td>leonardo@gmail.com</td>\n",
       "      <td>9999-9999</td>\n",
       "    </tr>\n",
       "    <tr>\n",
       "      <th>1</th>\n",
       "      <td>2</td>\n",
       "      <td>Rafael</td>\n",
       "      <td>rafael@gmail.com</td>\n",
       "      <td>9889-8998</td>\n",
       "    </tr>\n",
       "    <tr>\n",
       "      <th>2</th>\n",
       "      <td>3</td>\n",
       "      <td>Michelangelo</td>\n",
       "      <td>michelangelo@gmail.com</td>\n",
       "      <td>9997-7999</td>\n",
       "    </tr>\n",
       "    <tr>\n",
       "      <th>3</th>\n",
       "      <td>4</td>\n",
       "      <td>Donatello</td>\n",
       "      <td>donatello@gmail.com</td>\n",
       "      <td>9777-7779</td>\n",
       "    </tr>\n",
       "  </tbody>\n",
       "</table>\n",
       "</div>"
      ],
      "text/plain": [
       "   CLIENTE_ID          NOME                   EMAIL   TELEFONE\n",
       "0           1      Leonardo      leonardo@gmail.com  9999-9999\n",
       "1           2        Rafael        rafael@gmail.com  9889-8998\n",
       "2           3  Michelangelo  michelangelo@gmail.com  9997-7999\n",
       "3           4     Donatello     donatello@gmail.com  9777-7779"
      ]
     },
     "execution_count": 9,
     "metadata": {},
     "output_type": "execute_result"
    }
   ],
   "source": [
    "# Visualiza a tabela:\n",
    "\n",
    "df_cliente.head()"
   ]
  },
  {
   "cell_type": "code",
   "execution_count": 10,
   "metadata": {},
   "outputs": [
    {
     "data": {
      "text/html": [
       "<div>\n",
       "<style scoped>\n",
       "    .dataframe tbody tr th:only-of-type {\n",
       "        vertical-align: middle;\n",
       "    }\n",
       "\n",
       "    .dataframe tbody tr th {\n",
       "        vertical-align: top;\n",
       "    }\n",
       "\n",
       "    .dataframe thead th {\n",
       "        text-align: right;\n",
       "    }\n",
       "</style>\n",
       "<table border=\"1\" class=\"dataframe\">\n",
       "  <thead>\n",
       "    <tr style=\"text-align: right;\">\n",
       "      <th></th>\n",
       "      <th>NOME</th>\n",
       "      <th>EMAIL</th>\n",
       "      <th>TELEFONE</th>\n",
       "    </tr>\n",
       "  </thead>\n",
       "  <tbody>\n",
       "    <tr>\n",
       "      <th>0</th>\n",
       "      <td>Mestre Splinter</td>\n",
       "      <td>splinter@gmail.com</td>\n",
       "      <td>9887-8787</td>\n",
       "    </tr>\n",
       "    <tr>\n",
       "      <th>1</th>\n",
       "      <td>Destruidor</td>\n",
       "      <td>destruidor@gmail.com</td>\n",
       "      <td>9778-8899</td>\n",
       "    </tr>\n",
       "  </tbody>\n",
       "</table>\n",
       "</div>"
      ],
      "text/plain": [
       "              NOME                 EMAIL   TELEFONE\n",
       "0  Mestre Splinter    splinter@gmail.com  9887-8787\n",
       "1       Destruidor  destruidor@gmail.com  9778-8899"
      ]
     },
     "execution_count": 10,
     "metadata": {},
     "output_type": "execute_result"
    }
   ],
   "source": [
    "# Para inserir dados numa tabela existente:\n",
    "\n",
    "# Cria um data frame para o exemplo\n",
    "\n",
    "df_novos_clientes = pd.DataFrame({\n",
    "    'NOME': ['Mestre Splinter', 'Destruidor'],\n",
    "    'EMAIL': ['splinter@gmail.com', 'destruidor@gmail.com'],\n",
    "    'TELEFONE': ['9887-8787', '9778-8899']\n",
    "})\n",
    "\n",
    "df_novos_clientes.head()"
   ]
  },
  {
   "cell_type": "code",
   "execution_count": 11,
   "metadata": {},
   "outputs": [
    {
     "data": {
      "text/plain": [
       "2"
      ]
     },
     "execution_count": 11,
     "metadata": {},
     "output_type": "execute_result"
    }
   ],
   "source": [
    "df_novos_clientes.to_sql('CLIENTE', con=conn_sqlite, if_exists='append', index=False)"
   ]
  },
  {
   "cell_type": "code",
   "execution_count": 12,
   "metadata": {
    "vscode": {
     "languageId": "sql"
    }
   },
   "outputs": [
    {
     "name": "stdout",
     "output_type": "stream",
     "text": [
      " * sqlite:///mydb.db\n",
      "Done.\n"
     ]
    },
    {
     "data": {
      "text/html": [
       "<table>\n",
       "    <thead>\n",
       "        <tr>\n",
       "            <th>CLIENTE_ID</th>\n",
       "            <th>NOME</th>\n",
       "            <th>EMAIL</th>\n",
       "            <th>TELEFONE</th>\n",
       "        </tr>\n",
       "    </thead>\n",
       "    <tbody>\n",
       "        <tr>\n",
       "            <td>1</td>\n",
       "            <td>Leonardo</td>\n",
       "            <td>leonardo@gmail.com</td>\n",
       "            <td>9999-9999</td>\n",
       "        </tr>\n",
       "        <tr>\n",
       "            <td>2</td>\n",
       "            <td>Rafael</td>\n",
       "            <td>rafael@gmail.com</td>\n",
       "            <td>9889-8998</td>\n",
       "        </tr>\n",
       "        <tr>\n",
       "            <td>3</td>\n",
       "            <td>Michelangelo</td>\n",
       "            <td>michelangelo@gmail.com</td>\n",
       "            <td>9997-7999</td>\n",
       "        </tr>\n",
       "        <tr>\n",
       "            <td>4</td>\n",
       "            <td>Donatello</td>\n",
       "            <td>donatello@gmail.com</td>\n",
       "            <td>9777-7779</td>\n",
       "        </tr>\n",
       "        <tr>\n",
       "            <td>5</td>\n",
       "            <td>Mestre Splinter</td>\n",
       "            <td>splinter@gmail.com</td>\n",
       "            <td>9887-8787</td>\n",
       "        </tr>\n",
       "        <tr>\n",
       "            <td>6</td>\n",
       "            <td>Destruidor</td>\n",
       "            <td>destruidor@gmail.com</td>\n",
       "            <td>9778-8899</td>\n",
       "        </tr>\n",
       "    </tbody>\n",
       "</table>"
      ],
      "text/plain": [
       "[(1, 'Leonardo', 'leonardo@gmail.com', '9999-9999'),\n",
       " (2, 'Rafael', 'rafael@gmail.com', '9889-8998'),\n",
       " (3, 'Michelangelo', 'michelangelo@gmail.com', '9997-7999'),\n",
       " (4, 'Donatello', 'donatello@gmail.com', '9777-7779'),\n",
       " (5, 'Mestre Splinter', 'splinter@gmail.com', '9887-8787'),\n",
       " (6, 'Destruidor', 'destruidor@gmail.com', '9778-8899')]"
      ]
     },
     "execution_count": 12,
     "metadata": {},
     "output_type": "execute_result"
    }
   ],
   "source": [
    "%%sql\n",
    "\n",
    "SELECT * FROM CLIENTE"
   ]
  },
  {
   "cell_type": "code",
   "execution_count": 13,
   "metadata": {},
   "outputs": [
    {
     "data": {
      "text/plain": [
       "2"
      ]
     },
     "execution_count": 13,
     "metadata": {},
     "output_type": "execute_result"
    }
   ],
   "source": [
    "# Se o objetivo fosse criar uma nova tabela, por exemplo NOVOS_CLIENTES...\n",
    "\n",
    "df_novos_clientes.to_sql('NOVOS_CLIENTES', con=conn_sqlite, index=False)"
   ]
  },
  {
   "cell_type": "code",
   "execution_count": 14,
   "metadata": {
    "vscode": {
     "languageId": "sql"
    }
   },
   "outputs": [
    {
     "name": "stdout",
     "output_type": "stream",
     "text": [
      " * sqlite:///mydb.db\n",
      "Done.\n"
     ]
    },
    {
     "data": {
      "text/html": [
       "<table>\n",
       "    <thead>\n",
       "        <tr>\n",
       "            <th>NOME</th>\n",
       "            <th>EMAIL</th>\n",
       "            <th>TELEFONE</th>\n",
       "        </tr>\n",
       "    </thead>\n",
       "    <tbody>\n",
       "        <tr>\n",
       "            <td>Mestre Splinter</td>\n",
       "            <td>splinter@gmail.com</td>\n",
       "            <td>9887-8787</td>\n",
       "        </tr>\n",
       "        <tr>\n",
       "            <td>Destruidor</td>\n",
       "            <td>destruidor@gmail.com</td>\n",
       "            <td>9778-8899</td>\n",
       "        </tr>\n",
       "    </tbody>\n",
       "</table>"
      ],
      "text/plain": [
       "[('Mestre Splinter', 'splinter@gmail.com', '9887-8787'),\n",
       " ('Destruidor', 'destruidor@gmail.com', '9778-8899')]"
      ]
     },
     "execution_count": 14,
     "metadata": {},
     "output_type": "execute_result"
    }
   ],
   "source": [
    "%%sql\n",
    "\n",
    "SELECT * FROM NOVOS_CLIENTES"
   ]
  },
  {
   "cell_type": "code",
   "execution_count": 15,
   "metadata": {},
   "outputs": [
    {
     "data": {
      "text/plain": [
       "2"
      ]
     },
     "execution_count": 15,
     "metadata": {},
     "output_type": "execute_result"
    }
   ],
   "source": [
    "# É possível substituir uma tabela:\n",
    "\n",
    "df_novos_clientes.to_sql('CLIENTE', con=conn_sqlite, if_exists='replace', index=False)"
   ]
  },
  {
   "cell_type": "code",
   "execution_count": 16,
   "metadata": {
    "vscode": {
     "languageId": "sql"
    }
   },
   "outputs": [
    {
     "name": "stdout",
     "output_type": "stream",
     "text": [
      " * sqlite:///mydb.db\n",
      "Done.\n"
     ]
    },
    {
     "data": {
      "text/html": [
       "<table>\n",
       "    <thead>\n",
       "        <tr>\n",
       "            <th>NOME</th>\n",
       "            <th>EMAIL</th>\n",
       "            <th>TELEFONE</th>\n",
       "        </tr>\n",
       "    </thead>\n",
       "    <tbody>\n",
       "        <tr>\n",
       "            <td>Mestre Splinter</td>\n",
       "            <td>splinter@gmail.com</td>\n",
       "            <td>9887-8787</td>\n",
       "        </tr>\n",
       "        <tr>\n",
       "            <td>Destruidor</td>\n",
       "            <td>destruidor@gmail.com</td>\n",
       "            <td>9778-8899</td>\n",
       "        </tr>\n",
       "    </tbody>\n",
       "</table>"
      ],
      "text/plain": [
       "[('Mestre Splinter', 'splinter@gmail.com', '9887-8787'),\n",
       " ('Destruidor', 'destruidor@gmail.com', '9778-8899')]"
      ]
     },
     "execution_count": 16,
     "metadata": {},
     "output_type": "execute_result"
    }
   ],
   "source": [
    "%%sql\n",
    "\n",
    "SELECT * FROM CLIENTE"
   ]
  },
  {
   "cell_type": "code",
   "execution_count": null,
   "metadata": {
    "vscode": {
     "languageId": "sql"
    }
   },
   "outputs": [],
   "source": []
  }
 ],
 "metadata": {
  "kernelspec": {
   "display_name": ".venv",
   "language": "python",
   "name": "python3"
  },
  "language_info": {
   "codemirror_mode": {
    "name": "ipython",
    "version": 3
   },
   "file_extension": ".py",
   "mimetype": "text/x-python",
   "name": "python",
   "nbconvert_exporter": "python",
   "pygments_lexer": "ipython3",
   "version": "3.9.13"
  },
  "orig_nbformat": 4
 },
 "nbformat": 4,
 "nbformat_minor": 2
}
